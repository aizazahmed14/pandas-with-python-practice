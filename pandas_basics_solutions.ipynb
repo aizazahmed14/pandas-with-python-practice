{
 "cells": [
  {
   "cell_type": "markdown",
   "metadata": {},
   "source": [
    "Pandas in Python Tutorial"
   ]
  },
  {
   "cell_type": "markdown",
   "metadata": {},
   "source": [
    "What is Pandas?"
   ]
  },
  {
   "cell_type": "code",
   "execution_count": 1,
   "metadata": {},
   "outputs": [],
   "source": [
    "# Open Source Library\n",
    "# Design for Structured Data\n",
    "# to clean, analyze, and visualize data effectively\n",
    "# Two main data structures 1. Series 2. DataFrames"
   ]
  },
  {
   "cell_type": "markdown",
   "metadata": {},
   "source": [
    "Installing Pandas"
   ]
  },
  {
   "cell_type": "code",
   "execution_count": 2,
   "metadata": {},
   "outputs": [
    {
     "name": "stdout",
     "output_type": "stream",
     "text": [
      "Requirement already satisfied: pandas in /opt/anaconda3/envs/myenv/lib/python3.11/site-packages (2.2.3)\n",
      "Requirement already satisfied: numpy>=1.23.2 in /opt/anaconda3/envs/myenv/lib/python3.11/site-packages (from pandas) (1.26.4)\n",
      "Requirement already satisfied: python-dateutil>=2.8.2 in /opt/anaconda3/envs/myenv/lib/python3.11/site-packages (from pandas) (2.9.0.post0)\n",
      "Requirement already satisfied: pytz>=2020.1 in /opt/anaconda3/envs/myenv/lib/python3.11/site-packages (from pandas) (2024.1)\n",
      "Requirement already satisfied: tzdata>=2022.7 in /opt/anaconda3/envs/myenv/lib/python3.11/site-packages (from pandas) (2023.3)\n",
      "Requirement already satisfied: six>=1.5 in /opt/anaconda3/envs/myenv/lib/python3.11/site-packages (from python-dateutil>=2.8.2->pandas) (1.16.0)\n"
     ]
    }
   ],
   "source": [
    "!pip install pandas"
   ]
  },
  {
   "cell_type": "markdown",
   "metadata": {},
   "source": [
    "Introducing the Pandas Series\n",
    "\n",
    "\"A series is like a column in a spreadsheet or a 1D array in NumPy.\""
   ]
  },
  {
   "cell_type": "code",
   "execution_count": 3,
   "metadata": {},
   "outputs": [
    {
     "name": "stdout",
     "output_type": "stream",
     "text": [
      "0    10\n",
      "1    20\n",
      "2    30\n",
      "3    40\n",
      "dtype: int64\n",
      "40\n"
     ]
    }
   ],
   "source": [
    "import pandas as pd\n",
    "\n",
    "# creating a series\n",
    "data = pd.Series([10,20,30,40])\n",
    "print(data)\n",
    "\n",
    "# accessing the element\n",
    "print(data[3])"
   ]
  },
  {
   "cell_type": "markdown",
   "metadata": {},
   "source": [
    "Introducing the Pandas DataFrame\n",
    "\n",
    "\"Its a 2D table with rows and columns Just like an Excel sheet\""
   ]
  },
  {
   "cell_type": "code",
   "execution_count": 4,
   "metadata": {},
   "outputs": [
    {
     "name": "stdout",
     "output_type": "stream",
     "text": [
      "        Name  Age  Score\n",
      "0       Jack   20     85\n",
      "1  Peter Son   30     78\n",
      "2        Bob   35     65\n"
     ]
    }
   ],
   "source": [
    "#creating a dataFrame\n",
    "data = {'Name':[\"Jack\",\"Peter Son\",\"Bob\"],'Age':[20,30,35],'Score':[85,78,65]}\n",
    "df = pd.DataFrame(data)\n",
    "print(df)\n",
    "\n",
    "df.to_csv('/Users/mac/output_data1.csv')"
   ]
  },
  {
   "cell_type": "markdown",
   "metadata": {},
   "source": [
    "exploring the DataFrame"
   ]
  },
  {
   "cell_type": "code",
   "execution_count": 5,
   "metadata": {},
   "outputs": [
    {
     "name": "stdout",
     "output_type": "stream",
     "text": [
      "        Name  Age  Score\n",
      "0       Jack   20     85\n",
      "1  Peter Son   30     78\n",
      "2        Bob   35     65\n",
      "Index(['Name', 'Age', 'Score'], dtype='object')\n",
      "Name     object\n",
      "Age       int64\n",
      "Score     int64\n",
      "dtype: object\n",
      "Name     0\n",
      "Age      0\n",
      "Score    0\n",
      "dtype: int64\n"
     ]
    }
   ],
   "source": [
    "# we need to view first few rows\n",
    "print(df.head()) # head() function gets only top 5 rows\n",
    "\n",
    "# getting the column names\n",
    "print(df.columns)\n",
    "\n",
    "#getting the data types\n",
    "print(df.dtypes)\n",
    "\n",
    "# check the missing values\n",
    "print(df.isnull().sum())"
   ]
  },
  {
   "cell_type": "markdown",
   "metadata": {},
   "source": [
    "Data Selection and Indexing"
   ]
  },
  {
   "cell_type": "code",
   "execution_count": 6,
   "metadata": {},
   "outputs": [
    {
     "name": "stdout",
     "output_type": "stream",
     "text": [
      "0         Jack\n",
      "1    Peter Son\n",
      "2          Bob\n",
      "Name: Name, dtype: object\n",
      "        Name  Score\n",
      "0       Jack     85\n",
      "1  Peter Son     78\n",
      "2        Bob     65\n",
      "   Name  Age  Score\n",
      "0  Jack   20     85\n"
     ]
    }
   ],
   "source": [
    "#selecting a column\n",
    "print(df[\"Name\"])\n",
    "\n",
    "#select multiple column\n",
    "print(df[[\"Name\",\"Score\"]])\n",
    "\n",
    "#filtering rows\n",
    "\n",
    "filtered_df = df[df['Age']==20]\n",
    "print(filtered_df)"
   ]
  },
  {
   "cell_type": "markdown",
   "metadata": {},
   "source": [
    "Modifying data in DataFrames"
   ]
  },
  {
   "cell_type": "code",
   "execution_count": 7,
   "metadata": {},
   "outputs": [
    {
     "name": "stdout",
     "output_type": "stream",
     "text": [
      "        Name  Age  Score  Pass\n",
      "0       Jack   20     85  True\n",
      "1  Peter Son   30     78  True\n",
      "2        Bob   35     65  True\n",
      "        Name  Age  Score  Pass\n",
      "0       Jack   21     85  True\n",
      "1  Peter Son   31     78  True\n",
      "2        Bob   36     65  True\n",
      "        Name  Age  Score\n",
      "0       Jack   21     85\n",
      "1  Peter Son   31     78\n",
      "2        Bob   36     65\n"
     ]
    }
   ],
   "source": [
    "#adding a new column\n",
    "df[\"Pass\"] = df['Score'] > 60\n",
    "print(df)\n",
    "\n",
    "#modify the existing column\n",
    "df['Age'] = df[\"Age\"] + 1\n",
    "print(df)\n",
    "\n",
    "#delete/drop a column\n",
    "df = df.drop(\"Pass\", axis=1)\n",
    "print(df)"
   ]
  },
  {
   "cell_type": "markdown",
   "metadata": {},
   "source": [
    "Handling Missing Data"
   ]
  },
  {
   "cell_type": "code",
   "execution_count": 8,
   "metadata": {},
   "outputs": [
    {
     "name": "stdout",
     "output_type": "stream",
     "text": [
      "        Name  Age  Score\n",
      "0       Jack   21     85\n",
      "1  Peter Son   31     78\n",
      "2        Bob   36     65\n"
     ]
    }
   ],
   "source": [
    "#filtering the missing values\n",
    "df['Age'] = df['Age'].fillna(0)\n",
    "print(df)\n",
    "\n",
    "#dropping rows with missing values\n",
    "df = df.dropna()\n"
   ]
  },
  {
   "cell_type": "markdown",
   "metadata": {},
   "source": [
    "Grouping and Aggeregating Data"
   ]
  },
  {
   "cell_type": "code",
   "execution_count": 9,
   "metadata": {},
   "outputs": [
    {
     "name": "stdout",
     "output_type": "stream",
     "text": [
      "Age\n",
      "21    85.0\n",
      "31    78.0\n",
      "36    65.0\n",
      "Name: Score, dtype: float64\n"
     ]
    }
   ],
   "source": [
    "#grouping data \n",
    "grouped = df.groupby('Age')['Score'].mean()\n",
    "print(grouped)"
   ]
  },
  {
   "cell_type": "markdown",
   "metadata": {},
   "source": [
    "Importing and Exporting Data"
   ]
  },
  {
   "cell_type": "code",
   "execution_count": 10,
   "metadata": {},
   "outputs": [
    {
     "name": "stdout",
     "output_type": "stream",
     "text": [
      "   YearsExperience   Salary\n",
      "0              1.1  39343.0\n",
      "1              1.3  46205.0\n",
      "2              1.5  37731.0\n",
      "3              2.0  43525.0\n",
      "4              2.2  39891.0\n"
     ]
    }
   ],
   "source": [
    "#read the file\n",
    "df = pd.read_csv('/Users/mac/Salary_Data.csv')\n",
    "print(df.head())\n",
    "\n",
    "#writing a new file\n",
    "df.to_csv('/Users/mac/output_data.csv', index=False)"
   ]
  },
  {
   "cell_type": "markdown",
   "metadata": {},
   "source": [
    "Question 1: What kind of data does Pandas handle?"
   ]
  },
  {
   "cell_type": "code",
   "execution_count": 13,
   "metadata": {},
   "outputs": [
    {
     "name": "stdout",
     "output_type": "stream",
     "text": [
      "0         1\n",
      "1         2\n",
      "2         3\n",
      "3       abc\n",
      "4    123.23\n",
      "dtype: object\n",
      "    Name  Age  Score\n",
      "0  Alice   20     85\n",
      "1    Bob   26     90\n",
      "2   Jhon   30     91\n"
     ]
    }
   ],
   "source": [
    "#Series and DataFrame\n",
    "\n",
    "#import pandas as pd\n",
    "s = pd.Series([1,2,3,\"abc\",123.23])\n",
    "print(s)\n",
    "\n",
    "\n",
    "#DataFrame\n",
    "data = {\"Name\":[\"Alice\",\"Bob\",\"Jhon\"],\"Age\":[20,26,30],\"Score\":[85,90,91]}\n",
    "df = pd.DataFrame(data)\n",
    "print(df)"
   ]
  },
  {
   "cell_type": "markdown",
   "metadata": {},
   "source": [
    "Question 2: How do I read and write tabular data?"
   ]
  },
  {
   "cell_type": "code",
   "execution_count": 17,
   "metadata": {},
   "outputs": [
    {
     "name": "stdout",
     "output_type": "stream",
     "text": [
      "   Country   Age   Salary Purchased\n",
      "0   France  44.0  72000.0        No\n",
      "1    Spain  27.0  48000.0       Yes\n",
      "2  Germany  30.0  54000.0        No\n",
      "3    Spain  38.0  61000.0        No\n",
      "4  Germany  40.0      NaN       Yes\n"
     ]
    }
   ],
   "source": [
    "data = pd.read_csv(\"/Users/mac/Data.csv\")\n",
    "updated_data = data.head()\n",
    "print(updated_data)\n",
    "\n",
    "#export data \n",
    "data.to_csv(\"/Users/mac/updated_Data.csv\")\n",
    "\n"
   ]
  },
  {
   "cell_type": "markdown",
   "metadata": {},
   "source": [
    "Question 3: How do I select a subset of a table?"
   ]
  },
  {
   "cell_type": "code",
   "execution_count": 21,
   "metadata": {},
   "outputs": [
    {
     "name": "stdout",
     "output_type": "stream",
     "text": [
      "0    Alice\n",
      "1      Bob\n",
      "2     Jhon\n",
      "Name: Name, dtype: object\n",
      "   Name  Age  Score\n",
      "1   Bob   26     90\n",
      "2  Jhon   30     91\n",
      "    Name  Score\n",
      "0  Alice     85\n",
      "1    Bob     90\n"
     ]
    }
   ],
   "source": [
    "#filtering by indexing, slicing and logical conditions\n",
    "\n",
    "#selectin a column\n",
    "print(df[\"Name\"])\n",
    "\n",
    "\n",
    "#filtering rows by condition\n",
    "filtered = df[df[\"Age\"]>25]\n",
    "print(filtered)\n",
    "\n",
    "#selecting specific rows and columns\n",
    "subst = df.loc[0:1,['Name','Score']]\n",
    "print(subst)"
   ]
  },
  {
   "cell_type": "markdown",
   "metadata": {},
   "source": [
    "Question 4: How to create plots in Pandas?"
   ]
  },
  {
   "cell_type": "code",
   "execution_count": 23,
   "metadata": {},
   "outputs": [
    {
     "data": {
      "text/plain": [
       "<Axes: title={'center': 'Score by Name'}, xlabel='Name'>"
      ]
     },
     "execution_count": 23,
     "metadata": {},
     "output_type": "execute_result"
    },
    {
     "data": {
      "image/png": "[encoded data removed]",
      "text/plain": [
       "<Figure size 640x480 with 1 Axes>"
      ]
     },
     "metadata": {},
     "output_type": "display_data"
    },
    {
     "data": {
      "image/png": "[encoded data removed]",
      "text/plain": [
       "<Figure size 640x480 with 1 Axes>"
      ]
     },
     "metadata": {},
     "output_type": "display_data"
    }
   ],
   "source": [
    "#matplotlib \n",
    "\n",
    "# line plot\n",
    "df[\"Score\"].plot(kind='line', title=\"Scores Over Time\")\n",
    "\n",
    "df.plot(x=\"Name\", y=\"Score\", kind=\"bar\", title=\"Score by Name\")"
   ]
  },
  {
   "cell_type": "markdown",
   "metadata": {},
   "source": [
    "Question 5: How to create new columns derived from existing columns?"
   ]
  },
  {
   "cell_type": "code",
   "execution_count": 25,
   "metadata": {},
   "outputs": [
    {
     "name": "stdout",
     "output_type": "stream",
     "text": [
      "    Name  Age  Score  Adjusted Score\n",
      "0  Alice   20     85            93.5\n",
      "1    Bob   26     90            99.0\n",
      "2   Jhon   30     91           100.1\n",
      "    Name  Age  Score  Adjusted Score  Pass\n",
      "0  Alice   20     85            93.5  True\n",
      "1    Bob   26     90            99.0  True\n",
      "2   Jhon   30     91           100.1  True\n"
     ]
    }
   ],
   "source": [
    "# addin a new  column in the existing data\n",
    "df[\"Adjusted Score\"] = df[\"Score\"] * 1.1\n",
    "print(df)\n",
    "\n",
    "#modifying a column using conditional statement\n",
    "df[\"Pass\"] = df[\"Score\"]>50\n",
    "print(df)"
   ]
  },
  {
   "cell_type": "markdown",
   "metadata": {},
   "source": [
    "Question 6: How to calculate summary statistics?"
   ]
  },
  {
   "cell_type": "code",
   "execution_count": 29,
   "metadata": {},
   "outputs": [
    {
     "name": "stdout",
     "output_type": "stream",
     "text": [
      "             Age      Score  Adjusted Score\n",
      "count   3.000000   3.000000        3.000000\n",
      "mean   25.333333  88.666667       97.533333\n",
      "std     5.033223   3.214550        3.536005\n",
      "min    20.000000  85.000000       93.500000\n",
      "25%    23.000000  87.500000       96.250000\n",
      "50%    26.000000  90.000000       99.000000\n",
      "75%    28.000000  90.500000       99.550000\n",
      "max    30.000000  91.000000      100.100000\n",
      "Mean of score is :88.66666666666667\n",
      "Pass\n",
      "True    3\n",
      "Name: count, dtype: int64\n"
     ]
    }
   ],
   "source": [
    "#basic stats\n",
    "\n",
    "print(df.describe())\n",
    "\n",
    "#custom calculation\n",
    "mean_score = df['Score'].mean()\n",
    "print(f\"Mean of score is :{mean_score}\")\n",
    "\n",
    "#count values\n",
    "print(df[\"Pass\"].value_counts())"
   ]
  },
  {
   "cell_type": "markdown",
   "metadata": {},
   "source": [
    "Question 7: How to reshape the layout of tables?"
   ]
  },
  {
   "cell_type": "code",
   "execution_count": 32,
   "metadata": {},
   "outputs": [
    {
     "name": "stdout",
     "output_type": "stream",
     "text": [
      "Name  Alice   Bob  Jhon\n",
      "0      85.0   NaN   NaN\n",
      "1       NaN  90.0   NaN\n",
      "2       NaN   NaN  91.0\n",
      "    Name variable  value\n",
      "0  Alice      Age     20\n",
      "1    Bob      Age     26\n",
      "2   Jhon      Age     30\n",
      "3  Alice    Score     85\n",
      "4    Bob    Score     90\n",
      "5   Jhon    Score     91\n"
     ]
    }
   ],
   "source": [
    "#pivoting a dataframe\n",
    "pivot = df.pivot(columns=\"Name\", values=\"Score\")\n",
    "print(pivot)\n",
    "\n",
    "\n",
    "#Melting a dataframe\n",
    "melted = pd.melt(df, id_vars=[\"Name\"], value_vars=[\"Age\",\"Score\"])\n",
    "print(melted)"
   ]
  },
  {
   "cell_type": "markdown",
   "metadata": {},
   "source": [
    "Question 8: How to combine data from multiple tables?"
   ]
  },
  {
   "cell_type": "code",
   "execution_count": 40,
   "metadata": {},
   "outputs": [
    {
     "name": "stdout",
     "output_type": "stream",
     "text": [
      "   ID  Name  Score\n",
      "0   1  Jhon     85\n",
      "1   2   Bob     90\n"
     ]
    }
   ],
   "source": [
    "#merging data frames\n",
    "data1 = {\"ID\":[1,2],\"Name\":[\"Jhon\",\"Bob\"]}\n",
    "data2 = {\"ID\":[1,2],\"Score\":[85,90]}\n",
    "\n",
    "df1 = pd.DataFrame(data1)\n",
    "df2 = pd.DataFrame(data2)\n",
    "\n",
    "merged = pd.merge(df1,df2, on=\"ID\")\n",
    "print(merged)"
   ]
  },
  {
   "cell_type": "markdown",
   "metadata": {},
   "source": [
    "Question 9: How to handle time series data?"
   ]
  },
  {
   "cell_type": "code",
   "execution_count": 45,
   "metadata": {},
   "outputs": [
    {
     "name": "stdout",
     "output_type": "stream",
     "text": [
      "             Name  Age  Score  Adjusted Score  Pass\n",
      "Date                                               \n",
      "2023-01-01  Alice   20     85            93.5  True\n",
      "2023-01-02    Bob   26     90            99.0  True\n",
      "2023-01-03   Jhon   30     91           100.1  True\n",
      "Date\n",
      "2023-01-01    85.0\n",
      "2023-01-02    90.0\n",
      "2023-01-03    91.0\n",
      "Freq: D, Name: Score, dtype: float64\n"
     ]
    }
   ],
   "source": [
    "#creating a datetime index\n",
    "df['Date'] = pd.to_datetime(['2023-01-01','2023-01-02','2023-01-03'])\n",
    "df.set_index('Date',inplace=True)\n",
    "\n",
    "print(df)\n",
    "\n",
    "#resamplping data\n",
    "resampled_data = df['Score'].resample('D').mean()\n",
    "print(resampled_data)"
   ]
  },
  {
   "cell_type": "markdown",
   "metadata": {},
   "source": [
    "Question 10: How to manipulate textual data?"
   ]
  },
  {
   "cell_type": "code",
   "execution_count": 48,
   "metadata": {},
   "outputs": [
    {
     "name": "stdout",
     "output_type": "stream",
     "text": [
      "             Name  Age  Score  Adjusted Score  Pass Initial\n",
      "Date                                                       \n",
      "2023-01-01  ALICE   20     85            93.5  True       A\n",
      "2023-01-02    BOB   26     90            99.0  True       B\n",
      "2023-01-03   JHON   30     91           100.1  True       J\n"
     ]
    }
   ],
   "source": [
    "#texual data manipulation\n",
    "\n",
    "df['Name'] = df['Name'].str.upper()\n",
    "df['Initial'] = df['Name'].str[0]\n",
    "print(df)"
   ]
  },
  {
   "cell_type": "code",
   "execution_count": null,
   "metadata": {},
   "outputs": [],
   "source": []
  }
 ],
 "metadata": {
  "kernelspec": {
   "display_name": "myenv",
   "language": "python",
   "name": "python3"
  },
  "language_info": {
   "codemirror_mode": {
    "name": "ipython",
    "version": 3
   },
   "file_extension": ".py",
   "mimetype": "text/x-python",
   "name": "python",
   "nbconvert_exporter": "python",
   "pygments_lexer": "ipython3",
   "version": "3.11.7"
  }
 },
 "nbformat": 4,
 "nbformat_minor": 2
}
