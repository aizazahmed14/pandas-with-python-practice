{
 "cells": [
  {
   "cell_type": "markdown",
   "metadata": {},
   "source": [
    "Pandas in Python Tutorial"
   ]
  },
  {
   "cell_type": "markdown",
   "metadata": {},
   "source": [
    "What is Pandas?"
   ]
  },
  {
   "cell_type": "code",
   "execution_count": 1,
   "metadata": {},
   "outputs": [],
   "source": [
    "# Open Source Library\n",
    "# Design for Structured Data\n",
    "# to clean, analyze, and visualize data effectively\n",
    "# Two main data structures 1. Series 2. DataFrames"
   ]
  },
  {
   "cell_type": "markdown",
   "metadata": {},
   "source": [
    "Installing Pandas"
   ]
  },
  {
   "cell_type": "code",
   "execution_count": 1,
   "metadata": {},
   "outputs": [
    {
     "name": "stdout",
     "output_type": "stream",
     "text": [
      "Requirement already satisfied: pandas in /opt/anaconda3/envs/myenv/lib/python3.11/site-packages (2.2.3)\n",
      "Requirement already satisfied: numpy>=1.23.2 in /opt/anaconda3/envs/myenv/lib/python3.11/site-packages (from pandas) (1.26.4)\n",
      "Requirement already satisfied: python-dateutil>=2.8.2 in /opt/anaconda3/envs/myenv/lib/python3.11/site-packages (from pandas) (2.9.0.post0)\n",
      "Requirement already satisfied: pytz>=2020.1 in /opt/anaconda3/envs/myenv/lib/python3.11/site-packages (from pandas) (2024.1)\n",
      "Requirement already satisfied: tzdata>=2022.7 in /opt/anaconda3/envs/myenv/lib/python3.11/site-packages (from pandas) (2023.3)\n",
      "Requirement already satisfied: six>=1.5 in /opt/anaconda3/envs/myenv/lib/python3.11/site-packages (from python-dateutil>=2.8.2->pandas) (1.16.0)\n"
     ]
    }
   ],
   "source": [
    "!pip install pandas"
   ]
  },
  {
   "cell_type": "markdown",
   "metadata": {},
   "source": [
    "Introducing the Pandas Series\n",
    "\n",
    "\"A series is like a column in a spreadsheet or a 1D array in NumPy.\""
   ]
  },
  {
   "cell_type": "code",
   "execution_count": 3,
   "metadata": {},
   "outputs": [
    {
     "name": "stdout",
     "output_type": "stream",
     "text": [
      "0    10\n",
      "1    20\n",
      "2    30\n",
      "3    40\n",
      "dtype: int64\n",
      "40\n"
     ]
    }
   ],
   "source": [
    "import pandas as pd\n",
    "\n",
    "# creating a series\n",
    "data = pd.Series([10,20,30,40])\n",
    "print(data)\n",
    "\n",
    "# accessing the element\n",
    "print(data[3])"
   ]
  },
  {
   "cell_type": "markdown",
   "metadata": {},
   "source": [
    "Introducing the Pandas DataFrame\n",
    "\n",
    "\"Its a 2D table with rows and columns Just like an Excel sheet\""
   ]
  },
  {
   "cell_type": "code",
   "execution_count": 28,
   "metadata": {},
   "outputs": [
    {
     "name": "stdout",
     "output_type": "stream",
     "text": [
      "        Name  Age  Score\n",
      "0       Jack   20     85\n",
      "1  Peter Son   30     78\n",
      "2        Bob   35     65\n"
     ]
    }
   ],
   "source": [
    "#creating a dataFrame\n",
    "data = {'Name':[\"Jack\",\"Peter Son\",\"Bob\"],'Age':[20,30,35],'Score':[85,78,65]}\n",
    "df = pd.DataFrame(data)\n",
    "print(df)\n",
    "\n",
    "df.to_csv('/Users/mac/output_data1.csv')"
   ]
  },
  {
   "cell_type": "markdown",
   "metadata": {},
   "source": [
    "exploring the DataFrame"
   ]
  },
  {
   "cell_type": "code",
   "execution_count": 9,
   "metadata": {},
   "outputs": [
    {
     "name": "stdout",
     "output_type": "stream",
     "text": [
      "        Name  Age  Score\n",
      "0       Jack   20     85\n",
      "1  Peter Son   30     78\n",
      "2        Bob   35     65\n",
      "Index(['Name', 'Age', 'Score'], dtype='object')\n",
      "Name     object\n",
      "Age       int64\n",
      "Score     int64\n",
      "dtype: object\n",
      "Name     0\n",
      "Age      0\n",
      "Score    0\n",
      "dtype: int64\n"
     ]
    }
   ],
   "source": [
    "# we need to view first few rows\n",
    "print(df.head()) # head() function gets only top 5 rows\n",
    "\n",
    "# getting the column names\n",
    "print(df.columns)\n",
    "\n",
    "#getting the data types\n",
    "print(df.dtypes)\n",
    "\n",
    "# check the missing values\n",
    "print(df.isnull().sum())"
   ]
  },
  {
   "cell_type": "markdown",
   "metadata": {},
   "source": [
    "Data Selection and Indexing"
   ]
  },
  {
   "cell_type": "code",
   "execution_count": 14,
   "metadata": {},
   "outputs": [
    {
     "name": "stdout",
     "output_type": "stream",
     "text": [
      "0         Jack\n",
      "1    Peter Son\n",
      "2          Bob\n",
      "Name: Name, dtype: object\n",
      "        Name  Score\n",
      "0       Jack     85\n",
      "1  Peter Son     78\n",
      "2        Bob     65\n",
      "   Name  Age  Score\n",
      "0  Jack   20     85\n"
     ]
    }
   ],
   "source": [
    "#selecting a column\n",
    "print(df[\"Name\"])\n",
    "\n",
    "#select multiple column\n",
    "print(df[[\"Name\",\"Score\"]])\n",
    "\n",
    "#filtering rows\n",
    "\n",
    "filtered_df = df[df['Age']==20]\n",
    "print(filtered_df)"
   ]
  },
  {
   "cell_type": "markdown",
   "metadata": {},
   "source": [
    "Modifying data in DataFrames"
   ]
  },
  {
   "cell_type": "code",
   "execution_count": 17,
   "metadata": {},
   "outputs": [
    {
     "name": "stdout",
     "output_type": "stream",
     "text": [
      "        Name  Age  Score  Pass\n",
      "0       Jack   21     85  True\n",
      "1  Peter Son   31     78  True\n",
      "2        Bob   36     65  True\n",
      "        Name  Age  Score  Pass\n",
      "0       Jack   22     85  True\n",
      "1  Peter Son   32     78  True\n",
      "2        Bob   37     65  True\n",
      "        Name  Age  Score\n",
      "0       Jack   22     85\n",
      "1  Peter Son   32     78\n",
      "2        Bob   37     65\n"
     ]
    }
   ],
   "source": [
    "#adding a new column\n",
    "df[\"Pass\"] = df['Score'] > 60\n",
    "print(df)\n",
    "\n",
    "#modify the existing column\n",
    "df['Age'] = df[\"Age\"] + 1\n",
    "print(df)\n",
    "\n",
    "#delete/drop a column\n",
    "df = df.drop(\"Pass\", axis=1)\n",
    "print(df)"
   ]
  },
  {
   "cell_type": "markdown",
   "metadata": {},
   "source": [
    "Handling Missing Data"
   ]
  },
  {
   "cell_type": "code",
   "execution_count": 19,
   "metadata": {},
   "outputs": [
    {
     "name": "stdout",
     "output_type": "stream",
     "text": [
      "        Name  Age  Score\n",
      "0       Jack   22     85\n",
      "1  Peter Son   32     78\n",
      "2        Bob   37     65\n"
     ]
    }
   ],
   "source": [
    "#filtering the missing values\n",
    "df['Age'] = df['Age'].fillna(0)\n",
    "print(df)\n",
    "\n",
    "#dropping rows with missing values\n",
    "df = df.dropna()\n"
   ]
  },
  {
   "cell_type": "markdown",
   "metadata": {},
   "source": [
    "Grouping and Aggeregating Data"
   ]
  },
  {
   "cell_type": "code",
   "execution_count": 20,
   "metadata": {},
   "outputs": [
    {
     "name": "stdout",
     "output_type": "stream",
     "text": [
      "Age\n",
      "22    85.0\n",
      "32    78.0\n",
      "37    65.0\n",
      "Name: Score, dtype: float64\n"
     ]
    }
   ],
   "source": [
    "#grouping data \n",
    "grouped = df.groupby('Age')['Score'].mean()\n",
    "print(grouped)"
   ]
  },
  {
   "cell_type": "markdown",
   "metadata": {},
   "source": [
    "Importing and Exporting Data"
   ]
  },
  {
   "cell_type": "code",
   "execution_count": 27,
   "metadata": {},
   "outputs": [
    {
     "name": "stdout",
     "output_type": "stream",
     "text": [
      "   YearsExperience   Salary\n",
      "0              1.1  39343.0\n",
      "1              1.3  46205.0\n",
      "2              1.5  37731.0\n",
      "3              2.0  43525.0\n",
      "4              2.2  39891.0\n"
     ]
    }
   ],
   "source": [
    "#read the file\n",
    "df = pd.read_csv('/Users/mac/Salary_Data.csv')\n",
    "print(df.head())\n",
    "\n",
    "#writing a new file\n",
    "df.to_csv('/Users/mac/output_data.csv', index=False)"
   ]
  },
  {
   "cell_type": "markdown",
   "metadata": {},
   "source": [
    "Question 1: What kind of data does Pandas handle?"
   ]
  },
  {
   "cell_type": "code",
   "execution_count": null,
   "metadata": {},
   "outputs": [],
   "source": []
  },
  {
   "cell_type": "markdown",
   "metadata": {},
   "source": [
    "Question 2: How do I read and write tabular data?"
   ]
  },
  {
   "cell_type": "code",
   "execution_count": null,
   "metadata": {},
   "outputs": [],
   "source": []
  },
  {
   "cell_type": "markdown",
   "metadata": {},
   "source": [
    "Question 3: How do I select a subset of a table?"
   ]
  },
  {
   "cell_type": "code",
   "execution_count": null,
   "metadata": {},
   "outputs": [],
   "source": []
  },
  {
   "cell_type": "markdown",
   "metadata": {},
   "source": [
    "Question 4: How to create plots in Pandas?"
   ]
  },
  {
   "cell_type": "code",
   "execution_count": null,
   "metadata": {},
   "outputs": [],
   "source": []
  },
  {
   "cell_type": "markdown",
   "metadata": {},
   "source": [
    "Question 5: How to create new columns derived from existing columns?"
   ]
  },
  {
   "cell_type": "code",
   "execution_count": null,
   "metadata": {},
   "outputs": [],
   "source": []
  },
  {
   "cell_type": "markdown",
   "metadata": {},
   "source": [
    "Question 6: How to calculate summary statistics?"
   ]
  },
  {
   "cell_type": "code",
   "execution_count": null,
   "metadata": {},
   "outputs": [],
   "source": []
  },
  {
   "cell_type": "markdown",
   "metadata": {},
   "source": [
    "Question 7: How to reshape the layout of tables?"
   ]
  },
  {
   "cell_type": "code",
   "execution_count": null,
   "metadata": {},
   "outputs": [],
   "source": []
  },
  {
   "cell_type": "markdown",
   "metadata": {},
   "source": [
    "Question 8: How to combine data from multiple tables?"
   ]
  },
  {
   "cell_type": "code",
   "execution_count": null,
   "metadata": {},
   "outputs": [],
   "source": []
  },
  {
   "cell_type": "markdown",
   "metadata": {},
   "source": [
    "Question 9: How to handle time series data?"
   ]
  },
  {
   "cell_type": "code",
   "execution_count": null,
   "metadata": {},
   "outputs": [],
   "source": []
  },
  {
   "cell_type": "markdown",
   "metadata": {},
   "source": [
    "Question 10: How to manipulate textual data?"
   ]
  },
  {
   "cell_type": "code",
   "execution_count": null,
   "metadata": {},
   "outputs": [],
   "source": []
  }
 ],
 "metadata": {
  "kernelspec": {
   "display_name": "myenv",
   "language": "python",
   "name": "python3"
  },
  "language_info": {
   "codemirror_mode": {
    "name": "ipython",
    "version": 3
   },
   "file_extension": ".py",
   "mimetype": "text/x-python",
   "name": "python",
   "nbconvert_exporter": "python",
   "pygments_lexer": "ipython3",
   "version": "3.11.7"
  }
 },
 "nbformat": 4,
 "nbformat_minor": 2
}
